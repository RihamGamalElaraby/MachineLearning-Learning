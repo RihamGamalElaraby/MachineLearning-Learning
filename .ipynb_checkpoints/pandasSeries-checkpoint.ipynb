{
 "cells": [
  {
   "cell_type": "code",
   "execution_count": 4,
   "id": "520ec405-3362-4525-9357-341a379ebff6",
   "metadata": {},
   "outputs": [],
   "source": [
    "import numpy as np\n",
    "import pandas as pd \n"
   ]
  },
  {
   "cell_type": "code",
   "execution_count": 18,
   "id": "c110490c-ea35-4834-8a71-c41fa683d902",
   "metadata": {},
   "outputs": [],
   "source": [
    "labels =['a' , 'b' , 'c']\n",
    "my_list = [10,20,30]\n",
    "arr = np.array(my_list)\n",
    "d= {'a': 10 , 'b': 20 , 'c':30}"
   ]
  },
  {
   "cell_type": "code",
   "execution_count": 20,
   "id": "46f7c604-a7ae-438f-897e-2a8fbe8341c1",
   "metadata": {},
   "outputs": [
    {
     "data": {
      "text/plain": [
       "['a', 'b', 'c']"
      ]
     },
     "execution_count": 20,
     "metadata": {},
     "output_type": "execute_result"
    }
   ],
   "source": [
    "labels"
   ]
  },
  {
   "cell_type": "code",
   "execution_count": 22,
   "id": "b1cd7431-605d-4685-8859-b55954ac8acb",
   "metadata": {},
   "outputs": [
    {
     "data": {
      "text/plain": [
       "[10, 20, 30]"
      ]
     },
     "execution_count": 22,
     "metadata": {},
     "output_type": "execute_result"
    }
   ],
   "source": [
    "my_list"
   ]
  },
  {
   "cell_type": "code",
   "execution_count": 24,
   "id": "e0e27ecd-99e6-4626-9ea5-156cc0d12d30",
   "metadata": {},
   "outputs": [
    {
     "data": {
      "text/plain": [
       "array([10, 20, 30])"
      ]
     },
     "execution_count": 24,
     "metadata": {},
     "output_type": "execute_result"
    }
   ],
   "source": [
    "arr"
   ]
  },
  {
   "cell_type": "code",
   "execution_count": 26,
   "id": "3b628b0f-c156-4a38-9f0e-f828b2812072",
   "metadata": {},
   "outputs": [
    {
     "data": {
      "text/plain": [
       "{'a': 10, 'b': 20, 'c': 30}"
      ]
     },
     "execution_count": 26,
     "metadata": {},
     "output_type": "execute_result"
    }
   ],
   "source": [
    "d"
   ]
  },
  {
   "cell_type": "code",
   "execution_count": 32,
   "id": "3596699a-8137-43b4-b5f0-f543b307d708",
   "metadata": {},
   "outputs": [
    {
     "data": {
      "text/plain": [
       "a    10\n",
       "b    20\n",
       "c    30\n",
       "dtype: int64"
      ]
     },
     "execution_count": 32,
     "metadata": {},
     "output_type": "execute_result"
    }
   ],
   "source": [
    "pd.Series(data = my_list ,index = labels )"
   ]
  },
  {
   "cell_type": "code",
   "execution_count": 34,
   "id": "bf003e04-0842-4687-b736-ce513243aed7",
   "metadata": {},
   "outputs": [
    {
     "data": {
      "text/plain": [
       "a    10\n",
       "b    20\n",
       "c    30\n",
       "dtype: int64"
      ]
     },
     "execution_count": 34,
     "metadata": {},
     "output_type": "execute_result"
    }
   ],
   "source": [
    "pd.Series(my_list , labels )"
   ]
  },
  {
   "cell_type": "code",
   "execution_count": 36,
   "id": "7d283fb7-4cc0-479e-9901-1edd43d9bc37",
   "metadata": {},
   "outputs": [
    {
     "data": {
      "text/plain": [
       "0    10\n",
       "1    20\n",
       "2    30\n",
       "dtype: int32"
      ]
     },
     "execution_count": 36,
     "metadata": {},
     "output_type": "execute_result"
    }
   ],
   "source": [
    "pd.Series(arr)"
   ]
  },
  {
   "cell_type": "code",
   "execution_count": 38,
   "id": "d00a56e8-88e9-4531-90be-11c236bfafca",
   "metadata": {},
   "outputs": [
    {
     "data": {
      "text/plain": [
       "a    10\n",
       "b    20\n",
       "c    30\n",
       "dtype: int32"
      ]
     },
     "execution_count": 38,
     "metadata": {},
     "output_type": "execute_result"
    }
   ],
   "source": [
    "pd.Series(arr , labels)"
   ]
  },
  {
   "cell_type": "code",
   "execution_count": 40,
   "id": "291d5557-6de0-43bd-a383-9c0fdb1ccb11",
   "metadata": {},
   "outputs": [
    {
     "data": {
      "text/plain": [
       "a    10\n",
       "b    20\n",
       "c    30\n",
       "dtype: int64"
      ]
     },
     "execution_count": 40,
     "metadata": {},
     "output_type": "execute_result"
    }
   ],
   "source": [
    "pd.Series(d)"
   ]
  },
  {
   "cell_type": "code",
   "execution_count": 42,
   "id": "1e4569f9-134e-4430-a4f0-9d95439a83fb",
   "metadata": {},
   "outputs": [
    {
     "data": {
      "text/plain": [
       "0    a\n",
       "1    b\n",
       "2    c\n",
       "dtype: object"
      ]
     },
     "execution_count": 42,
     "metadata": {},
     "output_type": "execute_result"
    }
   ],
   "source": [
    "pd.Series(labels)"
   ]
  },
  {
   "cell_type": "code",
   "execution_count": 44,
   "id": "3718a027-7795-4edf-973e-721d5b18edcf",
   "metadata": {},
   "outputs": [
    {
     "data": {
      "text/plain": [
       "0    <built-in function sum>\n",
       "1    <built-in function len>\n",
       "dtype: object"
      ]
     },
     "execution_count": 44,
     "metadata": {},
     "output_type": "execute_result"
    }
   ],
   "source": [
    "pd.Series( data = [sum  , len ])"
   ]
  },
  {
   "cell_type": "code",
   "execution_count": 48,
   "id": "c3b73d6d-1ba6-4849-9b07-c221ee22796a",
   "metadata": {},
   "outputs": [],
   "source": [
    "ser1 = pd.Series([1,2,3] , index = ['usa','jaban' , 'egypy'] )"
   ]
  },
  {
   "cell_type": "code",
   "execution_count": 50,
   "id": "c9605266-2d0d-4759-af36-cb6b88aefdb4",
   "metadata": {},
   "outputs": [
    {
     "data": {
      "text/plain": [
       "usa      1\n",
       "jaban    2\n",
       "egypy    3\n",
       "dtype: int64"
      ]
     },
     "execution_count": 50,
     "metadata": {},
     "output_type": "execute_result"
    }
   ],
   "source": [
    "ser1"
   ]
  },
  {
   "cell_type": "code",
   "execution_count": 60,
   "id": "fba60a0b-2048-4be1-8de5-0f70e7dff8d8",
   "metadata": {},
   "outputs": [],
   "source": [
    "ser2 = pd.Series([1,2,3] , index = ['usa','jaban' , 'egypy'] )"
   ]
  },
  {
   "cell_type": "code",
   "execution_count": 62,
   "id": "5f8433c9-c6cd-4c95-a3d8-46752e2632cb",
   "metadata": {},
   "outputs": [
    {
     "data": {
      "text/plain": [
       "usa      1\n",
       "jaban    2\n",
       "egypy    3\n",
       "dtype: int64"
      ]
     },
     "execution_count": 62,
     "metadata": {},
     "output_type": "execute_result"
    }
   ],
   "source": [
    "ser2"
   ]
  },
  {
   "cell_type": "code",
   "execution_count": 64,
   "id": "73afa132-b9ce-4a69-8422-8ddd38ae966b",
   "metadata": {},
   "outputs": [],
   "source": [
    "ser3 = pd.Series([1,2,3] , index = ['usa','jaban' , 'egypy'] )"
   ]
  },
  {
   "cell_type": "code",
   "execution_count": 66,
   "id": "3ba12f01-fcbd-425f-9a28-a3e850a0d65a",
   "metadata": {},
   "outputs": [
    {
     "data": {
      "text/plain": [
       "usa      1\n",
       "jaban    2\n",
       "egypy    3\n",
       "dtype: int64"
      ]
     },
     "execution_count": 66,
     "metadata": {},
     "output_type": "execute_result"
    }
   ],
   "source": [
    "ser3"
   ]
  },
  {
   "cell_type": "code",
   "execution_count": 68,
   "id": "d82c3328-77c3-4857-bf43-6611a1848123",
   "metadata": {},
   "outputs": [
    {
     "data": {
      "text/plain": [
       "usa      2\n",
       "jaban    4\n",
       "egypy    6\n",
       "dtype: int64"
      ]
     },
     "execution_count": 68,
     "metadata": {},
     "output_type": "execute_result"
    }
   ],
   "source": [
    "ser1 + ser2"
   ]
  },
  {
   "cell_type": "code",
   "execution_count": null,
   "id": "71d70b3c-7348-4d44-a9e3-857ab43506a9",
   "metadata": {},
   "outputs": [],
   "source": []
  }
 ],
 "metadata": {
  "kernelspec": {
   "display_name": "Python 3 (ipykernel)",
   "language": "python",
   "name": "python3"
  },
  "language_info": {
   "codemirror_mode": {
    "name": "ipython",
    "version": 3
   },
   "file_extension": ".py",
   "mimetype": "text/x-python",
   "name": "python",
   "nbconvert_exporter": "python",
   "pygments_lexer": "ipython3",
   "version": "3.12.4"
  }
 },
 "nbformat": 4,
 "nbformat_minor": 5
}

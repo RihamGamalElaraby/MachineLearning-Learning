{
 "cells": [
  {
   "cell_type": "code",
   "execution_count": 117,
   "id": "b70dddf5-7235-469a-959d-c5b5ec765ba8",
   "metadata": {},
   "outputs": [],
   "source": [
    "##Numpy array"
   ]
  },
  {
   "cell_type": "code",
   "execution_count": 118,
   "id": "b703dd3c-3b9a-4a73-89e3-360fefe096f3",
   "metadata": {},
   "outputs": [
    {
     "data": {
      "text/plain": [
       "[1, 2, 3]"
      ]
     },
     "execution_count": 118,
     "metadata": {},
     "output_type": "execute_result"
    }
   ],
   "source": [
    "my_list = [1,2,3]\n",
    "my_list"
   ]
  },
  {
   "cell_type": "code",
   "execution_count": 119,
   "id": "11b77a93-8001-46f9-b4c0-35011b936567",
   "metadata": {},
   "outputs": [],
   "source": [
    "import numpy as np\n"
   ]
  },
  {
   "cell_type": "code",
   "execution_count": 120,
   "id": "6eebe0d1-3549-4241-bc2a-0ea6671737f9",
   "metadata": {},
   "outputs": [],
   "source": [
    "arr = np.array(my_list)"
   ]
  },
  {
   "cell_type": "code",
   "execution_count": 121,
   "id": "5213b747-2d6d-4b71-936b-1fb0b9df7ae5",
   "metadata": {},
   "outputs": [
    {
     "data": {
      "text/plain": [
       "array([1, 2, 3])"
      ]
     },
     "execution_count": 121,
     "metadata": {},
     "output_type": "execute_result"
    }
   ],
   "source": [
    "arr"
   ]
  },
  {
   "cell_type": "code",
   "execution_count": 122,
   "id": "3306c70d-592f-4b9e-9a34-1a795e8dc635",
   "metadata": {},
   "outputs": [
    {
     "data": {
      "text/plain": [
       "[[1, 2, 3], [4, 5, 6], [7, 8, 9]]"
      ]
     },
     "execution_count": 122,
     "metadata": {},
     "output_type": "execute_result"
    }
   ],
   "source": [
    "my_matrix = [[1,2,3], [4,5,6], [7,8,9] ]\n",
    "my_matrix         "
   ]
  },
  {
   "cell_type": "code",
   "execution_count": 123,
   "id": "cb1a54c2-d150-4170-8c1b-677604d747b5",
   "metadata": {},
   "outputs": [
    {
     "data": {
      "text/plain": [
       "array([[1, 2, 3],\n",
       "       [4, 5, 6],\n",
       "       [7, 8, 9]])"
      ]
     },
     "execution_count": 123,
     "metadata": {},
     "output_type": "execute_result"
    }
   ],
   "source": [
    "arr_matrix = np.array(my_matrix)\n",
    "arr_matrix "
   ]
  },
  {
   "cell_type": "code",
   "execution_count": 124,
   "id": "3096967f-8a93-46df-ae25-1b4dc70f0011",
   "metadata": {},
   "outputs": [
    {
     "data": {
      "text/plain": [
       "array([ 0,  2,  4,  6,  8, 10])"
      ]
     },
     "execution_count": 124,
     "metadata": {},
     "output_type": "execute_result"
    }
   ],
   "source": [
    " np.arange(0,11)\n",
    " np.arange(0,11 ,2)\n"
   ]
  },
  {
   "cell_type": "code",
   "execution_count": 125,
   "id": "c0ec5746-3b01-4443-b85e-a892237b3256",
   "metadata": {},
   "outputs": [
    {
     "data": {
      "text/plain": [
       "array([0., 0., 0., 0.])"
      ]
     },
     "execution_count": 125,
     "metadata": {},
     "output_type": "execute_result"
    }
   ],
   "source": [
    " np.zeros(4)\n"
   ]
  },
  {
   "cell_type": "code",
   "execution_count": 126,
   "id": "9bcc2820-4757-461f-8827-feff9dbfb88d",
   "metadata": {},
   "outputs": [
    {
     "data": {
      "text/plain": [
       "array([[0., 0., 0., 0., 0.],\n",
       "       [0., 0., 0., 0., 0.],\n",
       "       [0., 0., 0., 0., 0.],\n",
       "       [0., 0., 0., 0., 0.],\n",
       "       [0., 0., 0., 0., 0.]])"
      ]
     },
     "execution_count": 126,
     "metadata": {},
     "output_type": "execute_result"
    }
   ],
   "source": [
    "np.zeros((5,5))"
   ]
  },
  {
   "cell_type": "code",
   "execution_count": 127,
   "id": "3b7c1c13-1536-4d6b-8b72-9750f43079af",
   "metadata": {},
   "outputs": [
    {
     "data": {
      "text/plain": [
       "array([1., 1., 1.])"
      ]
     },
     "execution_count": 127,
     "metadata": {},
     "output_type": "execute_result"
    }
   ],
   "source": [
    "np.ones(3)"
   ]
  },
  {
   "cell_type": "code",
   "execution_count": 128,
   "id": "51e0e3f7-c274-44ff-9e32-0275750f1c46",
   "metadata": {},
   "outputs": [
    {
     "data": {
      "text/plain": [
       "array([[1., 1., 1., 1., 1.],\n",
       "       [1., 1., 1., 1., 1.],\n",
       "       [1., 1., 1., 1., 1.]])"
      ]
     },
     "execution_count": 128,
     "metadata": {},
     "output_type": "execute_result"
    }
   ],
   "source": [
    "np.ones((3,5))"
   ]
  },
  {
   "cell_type": "code",
   "execution_count": 129,
   "id": "b13d21a5-7641-4d14-b9af-5d1a35551d86",
   "metadata": {},
   "outputs": [
    {
     "data": {
      "text/plain": [
       "array([0.        , 0.77777778, 1.55555556, 2.33333333, 3.11111111,\n",
       "       3.88888889, 4.66666667, 5.44444444, 6.22222222, 7.        ])"
      ]
     },
     "execution_count": 129,
     "metadata": {},
     "output_type": "execute_result"
    }
   ],
   "source": [
    "np.linspace(0,7,10)\n",
    "# بتقسم مسافات مظبوطة ، يعني 10 اليمينت من صفر ل 7 متقسمين مثلا"
   ]
  },
  {
   "cell_type": "code",
   "execution_count": 130,
   "id": "6a8d2d92-a6c4-440c-ab45-82349cb4be56",
   "metadata": {},
   "outputs": [
    {
     "data": {
      "text/plain": [
       "array([[1., 0., 0., 0., 0.],\n",
       "       [0., 1., 0., 0., 0.],\n",
       "       [0., 0., 1., 0., 0.],\n",
       "       [0., 0., 0., 1., 0.],\n",
       "       [0., 0., 0., 0., 1.]])"
      ]
     },
     "execution_count": 130,
     "metadata": {},
     "output_type": "execute_result"
    }
   ],
   "source": [
    "np.eye(5)\n",
    "#مصفوفة متطابقة"
   ]
  },
  {
   "cell_type": "code",
   "execution_count": 131,
   "id": "b2feaa18-a955-4b91-af9c-ac377bb5f784",
   "metadata": {},
   "outputs": [
    {
     "data": {
      "text/plain": [
       "array([0.66161153, 0.58449435, 0.57516209, 0.79399059, 0.8626937 ])"
      ]
     },
     "execution_count": 131,
     "metadata": {},
     "output_type": "execute_result"
    }
   ],
   "source": [
    "np.random.rand(5)"
   ]
  },
  {
   "cell_type": "code",
   "execution_count": 132,
   "id": "e2aefe50-a1e9-400a-87c3-7935675ef602",
   "metadata": {},
   "outputs": [
    {
     "data": {
      "text/plain": [
       "array([[0.98346483, 0.1066264 , 0.40723771, 0.4123211 , 0.70696704],\n",
       "       [0.98123016, 0.71147535, 0.42177214, 0.28450754, 0.74045756],\n",
       "       [0.52084811, 0.58432807, 0.16418324, 0.78642564, 0.53348374],\n",
       "       [0.09718978, 0.45856048, 0.3364739 , 0.59126102, 0.8829773 ],\n",
       "       [0.64322494, 0.50503035, 0.41043131, 0.46643391, 0.55674645]])"
      ]
     },
     "execution_count": 132,
     "metadata": {},
     "output_type": "execute_result"
    }
   ],
   "source": [
    "np.random.rand(5,5)\n",
    "#normal distribution "
   ]
  },
  {
   "cell_type": "code",
   "execution_count": 133,
   "id": "86d80ea9-dfb8-4e0a-b6db-ec56c5525e51",
   "metadata": {},
   "outputs": [
    {
     "data": {
      "text/plain": [
       "array([[-1.27543833, -0.07949173, -0.11408438,  0.73425789,  0.3330275 ],\n",
       "       [-0.96731282, -1.70727148,  0.13751741, -2.12662798, -1.80497599],\n",
       "       [-1.12937633, -0.40966817,  0.62161294, -0.08844501,  0.83184282],\n",
       "       [ 0.11127918, -0.82005573, -0.75159109,  1.98615552, -0.36873739],\n",
       "       [ 1.64202307, -1.61514664,  1.90941619,  1.26581493, -0.16086742]])"
      ]
     },
     "execution_count": 133,
     "metadata": {},
     "output_type": "execute_result"
    }
   ],
   "source": [
    "np.random.randn(5,5)"
   ]
  },
  {
   "cell_type": "code",
   "execution_count": 134,
   "id": "d6209ca4-1787-4fe0-b267-80fcc87f30f2",
   "metadata": {},
   "outputs": [
    {
     "data": {
      "text/plain": [
       "array([34,  8,  1,  1, 42, 34, 18, 49, 37, 97])"
      ]
     },
     "execution_count": 134,
     "metadata": {},
     "output_type": "execute_result"
    }
   ],
   "source": [
    "np.random.randint(1,100,10)"
   ]
  },
  {
   "cell_type": "code",
   "execution_count": 135,
   "id": "c60a3d36-4a58-4786-b050-ed8473410026",
   "metadata": {},
   "outputs": [],
   "source": [
    "arr = np.arange(25)"
   ]
  },
  {
   "cell_type": "code",
   "execution_count": 136,
   "id": "b996d17a-7260-4acf-8456-95d178d24c4f",
   "metadata": {},
   "outputs": [
    {
     "data": {
      "text/plain": [
       "array([ 0,  1,  2,  3,  4,  5,  6,  7,  8,  9, 10, 11, 12, 13, 14, 15, 16,\n",
       "       17, 18, 19, 20, 21, 22, 23, 24])"
      ]
     },
     "execution_count": 136,
     "metadata": {},
     "output_type": "execute_result"
    }
   ],
   "source": [
    "arr"
   ]
  },
  {
   "cell_type": "code",
   "execution_count": 137,
   "id": "2f5b5974-0a0f-44bc-942b-78079df50e7e",
   "metadata": {},
   "outputs": [],
   "source": [
    "ranarr = np.random.randint(0,50 ,10 )"
   ]
  },
  {
   "cell_type": "code",
   "execution_count": 138,
   "id": "93cd57a6-0496-4123-a803-553e35b37fb7",
   "metadata": {},
   "outputs": [
    {
     "data": {
      "text/plain": [
       "array([13,  2, 24, 15,  5, 20, 16, 27, 22, 27])"
      ]
     },
     "execution_count": 138,
     "metadata": {},
     "output_type": "execute_result"
    }
   ],
   "source": [
    "ranarr"
   ]
  },
  {
   "cell_type": "code",
   "execution_count": 139,
   "id": "4c8de9aa-5eab-44e1-b423-2f6986d2dfd9",
   "metadata": {},
   "outputs": [
    {
     "data": {
      "text/plain": [
       "array([[ 0,  1,  2,  3,  4],\n",
       "       [ 5,  6,  7,  8,  9],\n",
       "       [10, 11, 12, 13, 14],\n",
       "       [15, 16, 17, 18, 19],\n",
       "       [20, 21, 22, 23, 24]])"
      ]
     },
     "execution_count": 139,
     "metadata": {},
     "output_type": "execute_result"
    }
   ],
   "source": [
    "arr.reshape(5,5)"
   ]
  },
  {
   "cell_type": "code",
   "execution_count": 140,
   "id": "77679d01-f18c-468d-8ab2-5350a7e3ca19",
   "metadata": {},
   "outputs": [
    {
     "data": {
      "text/plain": [
       "27"
      ]
     },
     "execution_count": 140,
     "metadata": {},
     "output_type": "execute_result"
    }
   ],
   "source": [
    "ranarr.max()"
   ]
  },
  {
   "cell_type": "code",
   "execution_count": 141,
   "id": "f112cfc2-a67f-480c-be44-a3450dbf32c8",
   "metadata": {},
   "outputs": [
    {
     "data": {
      "text/plain": [
       "2"
      ]
     },
     "execution_count": 141,
     "metadata": {},
     "output_type": "execute_result"
    }
   ],
   "source": [
    "ranarr.min()"
   ]
  },
  {
   "cell_type": "code",
   "execution_count": 142,
   "id": "3dd6a1cb-e0fe-42e6-b50a-c35b343ceff7",
   "metadata": {},
   "outputs": [
    {
     "data": {
      "text/plain": [
       "7"
      ]
     },
     "execution_count": 142,
     "metadata": {},
     "output_type": "execute_result"
    }
   ],
   "source": [
    "ranarr.argmax()"
   ]
  },
  {
   "cell_type": "code",
   "execution_count": 143,
   "id": "bcd64ae6-ee53-467b-8868-6238dbd1933c",
   "metadata": {},
   "outputs": [
    {
     "data": {
      "text/plain": [
       "1"
      ]
     },
     "execution_count": 143,
     "metadata": {},
     "output_type": "execute_result"
    }
   ],
   "source": [
    "ranarr.argmin()"
   ]
  },
  {
   "cell_type": "code",
   "execution_count": 144,
   "id": "6f2c0524-2d9f-4e79-bedf-65255eb3e992",
   "metadata": {},
   "outputs": [
    {
     "data": {
      "text/plain": [
       "(25,)"
      ]
     },
     "execution_count": 144,
     "metadata": {},
     "output_type": "execute_result"
    }
   ],
   "source": [
    "arr.shape"
   ]
  },
  {
   "cell_type": "code",
   "execution_count": 146,
   "id": "a5247d50-2679-4005-abac-95af74a7fcb3",
   "metadata": {},
   "outputs": [],
   "source": [
    "arr = arr.reshape(5,5)"
   ]
  },
  {
   "cell_type": "code",
   "execution_count": 148,
   "id": "5a873600-52ea-49e2-89ec-00ba1a0f62f1",
   "metadata": {},
   "outputs": [
    {
     "data": {
      "text/plain": [
       "array([[ 0,  1,  2,  3,  4],\n",
       "       [ 5,  6,  7,  8,  9],\n",
       "       [10, 11, 12, 13, 14],\n",
       "       [15, 16, 17, 18, 19],\n",
       "       [20, 21, 22, 23, 24]])"
      ]
     },
     "execution_count": 148,
     "metadata": {},
     "output_type": "execute_result"
    }
   ],
   "source": [
    "arr"
   ]
  },
  {
   "cell_type": "code",
   "execution_count": 150,
   "id": "d256afdd-7f65-43ff-938c-bdb13e715ff9",
   "metadata": {},
   "outputs": [
    {
     "data": {
      "text/plain": [
       "(5, 5)"
      ]
     },
     "execution_count": 150,
     "metadata": {},
     "output_type": "execute_result"
    }
   ],
   "source": [
    "arr.shape"
   ]
  },
  {
   "cell_type": "code",
   "execution_count": 152,
   "id": "730a1aa3-c751-4502-9c24-65eb2b4556e7",
   "metadata": {},
   "outputs": [
    {
     "data": {
      "text/plain": [
       "dtype('int32')"
      ]
     },
     "execution_count": 152,
     "metadata": {},
     "output_type": "execute_result"
    }
   ],
   "source": [
    "arr.dtype"
   ]
  },
  {
   "cell_type": "code",
   "execution_count": null,
   "id": "17d8eee7-c1c6-4f39-a9fe-6e92c8f23eb0",
   "metadata": {},
   "outputs": [],
   "source": []
  },
  {
   "cell_type": "code",
   "execution_count": null,
   "id": "493f35bb-10f6-446c-9271-7c63007ed68e",
   "metadata": {},
   "outputs": [],
   "source": []
  },
  {
   "cell_type": "code",
   "execution_count": null,
   "id": "71f8b9eb-c849-43c4-8e92-a4501742883a",
   "metadata": {},
   "outputs": [],
   "source": []
  }
 ],
 "metadata": {
  "kernelspec": {
   "display_name": "Python 3 (ipykernel)",
   "language": "python",
   "name": "python3"
  },
  "language_info": {
   "codemirror_mode": {
    "name": "ipython",
    "version": 3
   },
   "file_extension": ".py",
   "mimetype": "text/x-python",
   "name": "python",
   "nbconvert_exporter": "python",
   "pygments_lexer": "ipython3",
   "version": "3.12.4"
  }
 },
 "nbformat": 4,
 "nbformat_minor": 5
}
